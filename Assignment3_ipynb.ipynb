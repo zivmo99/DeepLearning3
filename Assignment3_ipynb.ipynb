{
  "cells": [
    {
      "cell_type": "markdown",
      "source": [
        "# Assignment 3: Image Classification\n",
        "\n",
        "In this assignment, we will build a convolutional neural network that can predict \n",
        "whether two shoes are from the **same pair** or from two **different pairs**.\n",
        "This kind of application can have real-world applications: for example to help\n",
        "people who are visually impaired to have more independence.\n",
        "\n",
        "We will explore two convolutional architectures. While we will give you starter\n",
        "code to help make data processing a bit easier, in this assignment you have a chance to build your neural network all by yourself. \n",
        "\n",
        "You may modify the starter code as you see fit, including changing the signatures of\n",
        "functions and adding/removing helper functions. However, please make sure that we can understand what you are doing and why.\n",
        " "
      ],
      "metadata": {
        "id": "KU_Ozqt_XA0A"
      }
    },
    {
      "cell_type": "code",
      "source": [
        "import pandas\n",
        "import numpy as np\n",
        "import matplotlib.pyplot as plt\n",
        "\n",
        "import torch\n",
        "import torch.nn as nn\n",
        "import torch.optim as optim"
      ],
      "execution_count": 1,
      "outputs": [],
      "metadata": {
        "id": "aUAA3qcYXA0C"
      }
    },
    {
      "cell_type": "markdown",
      "source": [
        "## Question 1. Data (20%)\n",
        "\n",
        "Download the data from the course website. \n",
        "\n",
        "Unzip the file. There are three\n",
        "main folders: `train`, `test_w` and `test_m`. Data in `train` will be used for\n",
        "training and validation, and the data in the other folders will be used for testing.\n",
        "This is so that the entire class will have the same test sets. The dataset is comprised of triplets of pairs, where each such triplet of image pairs was taken in a similar setting (by the same person).\n",
        "\n",
        "We've separated `test_w` and `test_m` so that we can track our model performance \n",
        "for women's shoes and men's shoes separately. Each of the test sets contain images of either exclusively men's shoes or women's\n",
        "shoes.\n",
        "\n",
        "Upload this data to Google Colab.\n",
        "Then, mount Google Drive from your Google Colab notebook:"
      ],
      "metadata": {
        "id": "7IVxWgIrXA0E"
      }
    },
    {
      "cell_type": "code",
      "source": [
        "from google.colab import drive\n",
        "drive.mount('/content/gdrive')"
      ],
      "execution_count": 2,
      "outputs": [
        {
          "output_type": "stream",
          "name": "stdout",
          "text": [
            "Mounted at /content/gdrive\n"
          ]
        }
      ],
      "metadata": {
        "id": "RKb-9V1LXA0F",
        "outputId": "9e851f7c-0759-40e2-8c36-d8f320dd5054",
        "colab": {
          "base_uri": "https://localhost:8080/"
        }
      }
    },
    {
      "cell_type": "markdown",
      "source": [
        "After you have done so, read this entire section \n",
        "before proceeding. There are right and wrong ways of\n",
        "processing this data. If you don't make the correct choices, you may find\n",
        "yourself needing to start over.\n",
        "Many machine learning projects fail because of the lack of care taken during\n",
        "the data processing stage."
      ],
      "metadata": {
        "id": "zyl8EGX5XA0G"
      }
    },
    {
      "cell_type": "markdown",
      "source": [
        "### Part (a) -- 8%\n",
        "\n",
        "Load the training and test data, and separate your training data into training and validation.\n",
        "Create the numpy arrays `train_data`, `valid_data`, `test_w` and `test_m`, all of which should\n",
        "be of shape `[*, 3, 2, 224, 224, 3]`. The dimensions of these numpy arrays are as follows:\n",
        "\n",
        "- `*` - the number of triplets allocated to train, valid, or test\n",
        "- `3` - the 3 pairs of shoe images in that triplet\n",
        "- `2` - the left/right shoes\n",
        "- `224` - the height of each image\n",
        "- `224` - the width of each image\n",
        "- `3` - the colour channels\n",
        "\n",
        "So, the item `train_data[4,0,0,:,:,:]` should give us the left shoe of the first image of the fifth person.The item `train_data[4,0,1,:,:,:]`  should be the right shoe in the same pair. \n",
        "The item `train_data[4,1,1,:,:,:]`  should be the right shoe in a different pair of that same person.\n",
        "\n",
        "When you first load the images using (for example) `plt.imread`, you may see a numpy array of shape\n",
        "`[224, 224, 4]` instead of `[224, 224, 3]`. That last channel is what's called the alpha channel for transparent\n",
        "pixels, and should be removed. \n",
        "The pixel intensities are stored as an integer between 0 and 255.\n",
        "Make sure you normlize your images, namely, divide the intensities by 255 so that you have floating-point values between 0 and 1. Then, subtract 0.5\n",
        "so that the elements of `train_data`, `valid_data` and `test_data` are between -0.5 and 0.5.\n",
        "**Note that this step actually makes a huge difference in training!**\n",
        "\n",
        "This function might take a while to run; it can takes several minutes to just\n",
        "load the files from Google Drive.  If you want to avoid\n",
        "running this code multiple times, you can save \n",
        "your numpy arrays and load it later:\n",
        "https://docs.scipy.org/doc/numpy/reference/generated/numpy.save.html"
      ],
      "metadata": {
        "id": "QGZ-PApQXA0G"
      }
    },
    {
      "cell_type": "code",
      "source": [
        "# Your code goes here. Make sure it does not get cut off\n",
        "# You can use the code below to help you get started. You're welcome to modify\n",
        "# the code or remove it entirely: it's just here so that you don't get stuck\n",
        "# reading files\n",
        "\n",
        "import glob\n",
        "path = \"/content/gdrive/Shareddrives/Deep learning/Ex3/data/train/*.jpg\" # TODO - UPDATE ME!\n",
        "#path = \"/content/gdrive/Shareddrives/Deep learning/Ex3/data/test_w/*.jpg\" # TODO - UPDATE ME!\n",
        "#path = \"/content/gdrive/Shareddrives/Deep learning/Ex3/data/test_m/*.jpg\" # TODO - UPDATE ME!\n",
        "images = {}\n",
        "train_data = np.zeros((-1, 3, 2, 224, 224, 3))\n",
        "\n",
        "for file in glob.glob(path):\n",
        "    filename = file.split(\"/\")[-1]   # get the name of the .jpg file\n",
        "    print(filename)\n",
        "    filename_splited = filename.split(\"_\")\n",
        "    print(filename_splited)\n",
        "    person_num = filename_splited[0]\n",
        "    pair_num = filename_splited[1] # 0-2\n",
        "    right_left = filename_splited[2]# left=1. right=2\n",
        "    gender = filename_splited[3]\n",
        "\n",
        "    img = plt.imread(file)           # read the image as a numpy array\n",
        "    images[filename] = img[:, :, :3] # remove the alpha channel"
      ],
      "execution_count": 10,
      "outputs": [
        {
          "output_type": "stream",
          "name": "stdout",
          "text": [
            "u047_1_right_m.jpg\n",
            "u115_3_left_m.jpg\n",
            "u002_1_left_m.jpg\n",
            "u115_3_right_m.jpg\n",
            "u024_1_left_m.jpg\n",
            "u008_3_right_m.jpg\n",
            "u057_1_right_m.jpg\n",
            "u071_2_left_m.jpg\n",
            "u057_3_left_m.jpg\n",
            "u080_3_left_m.jpg\n",
            "u005_2_right_m.jpg\n",
            "u047_2_left_m.jpg\n",
            "u080_3_right_m.jpg\n",
            "u047_3_right_m.jpg\n",
            "u024_3_right_m.jpg\n",
            "u068_2_right_m.jpg\n",
            "u002_1_right_m.jpg\n",
            "u024_2_left_m.jpg\n",
            "u002_2_left_m.jpg\n",
            "u005_1_left_m.jpg\n",
            "u080_1_left_m.jpg\n",
            "u005_3_right_m.jpg\n",
            "u115_2_left_m.jpg\n",
            "u024_2_right_m.jpg\n",
            "u115_2_right_m.jpg\n",
            "u005_1_right_m.jpg\n",
            "u068_3_left_m.jpg\n",
            "u068_3_right_m.jpg\n",
            "u008_2_right_m.jpg\n",
            "u008_2_left_m.jpg\n",
            "u008_1_left_m.jpg\n",
            "u047_1_left_m.jpg\n",
            "u071_1_right_m.jpg\n",
            "u057_2_left_m.jpg\n",
            "u080_1_right_m.jpg\n",
            "u068_2_left_m.jpg\n",
            "u068_1_right_m.jpg\n",
            "u057_2_right_m.jpg\n",
            "u115_1_right_m.jpg\n",
            "u005_3_left_m.jpg\n",
            "u057_1_left_m.jpg\n",
            "u024_1_right_m.jpg\n",
            "u068_1_left_m.jpg\n",
            "u115_1_left_m.jpg\n",
            "u071_2_right_m.jpg\n",
            "u005_2_left_m.jpg\n",
            "u047_2_right_m.jpg\n",
            "u002_3_right_m.jpg\n",
            "u057_3_right_m.jpg\n",
            "u080_2_right_m.jpg\n",
            "u071_1_left_m.jpg\n",
            "u008_3_left_m.jpg\n",
            "u071_3_left_m.jpg\n",
            "u002_3_left_m.jpg\n"
          ]
        },
        {
          "output_type": "error",
          "ename": "KeyboardInterrupt",
          "evalue": "ignored",
          "traceback": [
            "\u001b[0;31m---------------------------------------------------------------------------\u001b[0m",
            "\u001b[0;31mKeyboardInterrupt\u001b[0m                         Traceback (most recent call last)",
            "\u001b[0;32m<ipython-input-10-360fb7fbd451>\u001b[0m in \u001b[0;36m<module>\u001b[0;34m()\u001b[0m\n\u001b[1;32m     14\u001b[0m     \u001b[0mfilename\u001b[0m \u001b[0;34m=\u001b[0m \u001b[0mfile\u001b[0m\u001b[0;34m.\u001b[0m\u001b[0msplit\u001b[0m\u001b[0;34m(\u001b[0m\u001b[0;34m\"/\"\u001b[0m\u001b[0;34m)\u001b[0m\u001b[0;34m[\u001b[0m\u001b[0;34m-\u001b[0m\u001b[0;36m1\u001b[0m\u001b[0;34m]\u001b[0m   \u001b[0;31m# get the name of the .jpg file\u001b[0m\u001b[0;34m\u001b[0m\u001b[0;34m\u001b[0m\u001b[0m\n\u001b[1;32m     15\u001b[0m     \u001b[0mprint\u001b[0m\u001b[0;34m(\u001b[0m\u001b[0mfilename\u001b[0m\u001b[0;34m)\u001b[0m\u001b[0;34m\u001b[0m\u001b[0;34m\u001b[0m\u001b[0m\n\u001b[0;32m---> 16\u001b[0;31m     \u001b[0mimg\u001b[0m \u001b[0;34m=\u001b[0m \u001b[0mplt\u001b[0m\u001b[0;34m.\u001b[0m\u001b[0mimread\u001b[0m\u001b[0;34m(\u001b[0m\u001b[0mfile\u001b[0m\u001b[0;34m)\u001b[0m           \u001b[0;31m# read the image as a numpy array\u001b[0m\u001b[0;34m\u001b[0m\u001b[0;34m\u001b[0m\u001b[0m\n\u001b[0m\u001b[1;32m     17\u001b[0m     \u001b[0mimages\u001b[0m\u001b[0;34m[\u001b[0m\u001b[0mfilename\u001b[0m\u001b[0;34m]\u001b[0m \u001b[0;34m=\u001b[0m \u001b[0mimg\u001b[0m\u001b[0;34m[\u001b[0m\u001b[0;34m:\u001b[0m\u001b[0;34m,\u001b[0m \u001b[0;34m:\u001b[0m\u001b[0;34m,\u001b[0m \u001b[0;34m:\u001b[0m\u001b[0;36m3\u001b[0m\u001b[0;34m]\u001b[0m \u001b[0;31m# remove the alpha channel\u001b[0m\u001b[0;34m\u001b[0m\u001b[0;34m\u001b[0m\u001b[0m\n",
            "\u001b[0;32m/usr/local/lib/python3.7/dist-packages/matplotlib/pyplot.py\u001b[0m in \u001b[0;36mimread\u001b[0;34m(fname, format)\u001b[0m\n\u001b[1;32m   2059\u001b[0m \u001b[0;34m@\u001b[0m\u001b[0mdocstring\u001b[0m\u001b[0;34m.\u001b[0m\u001b[0mcopy\u001b[0m\u001b[0;34m(\u001b[0m\u001b[0mmatplotlib\u001b[0m\u001b[0;34m.\u001b[0m\u001b[0mimage\u001b[0m\u001b[0;34m.\u001b[0m\u001b[0mimread\u001b[0m\u001b[0;34m)\u001b[0m\u001b[0;34m\u001b[0m\u001b[0;34m\u001b[0m\u001b[0m\n\u001b[1;32m   2060\u001b[0m \u001b[0;32mdef\u001b[0m \u001b[0mimread\u001b[0m\u001b[0;34m(\u001b[0m\u001b[0mfname\u001b[0m\u001b[0;34m,\u001b[0m \u001b[0mformat\u001b[0m\u001b[0;34m=\u001b[0m\u001b[0;32mNone\u001b[0m\u001b[0;34m)\u001b[0m\u001b[0;34m:\u001b[0m\u001b[0;34m\u001b[0m\u001b[0;34m\u001b[0m\u001b[0m\n\u001b[0;32m-> 2061\u001b[0;31m     \u001b[0;32mreturn\u001b[0m \u001b[0mmatplotlib\u001b[0m\u001b[0;34m.\u001b[0m\u001b[0mimage\u001b[0m\u001b[0;34m.\u001b[0m\u001b[0mimread\u001b[0m\u001b[0;34m(\u001b[0m\u001b[0mfname\u001b[0m\u001b[0;34m,\u001b[0m \u001b[0mformat\u001b[0m\u001b[0;34m)\u001b[0m\u001b[0;34m\u001b[0m\u001b[0;34m\u001b[0m\u001b[0m\n\u001b[0m\u001b[1;32m   2062\u001b[0m \u001b[0;34m\u001b[0m\u001b[0m\n\u001b[1;32m   2063\u001b[0m \u001b[0;34m\u001b[0m\u001b[0m\n",
            "\u001b[0;32m/usr/local/lib/python3.7/dist-packages/matplotlib/image.py\u001b[0m in \u001b[0;36mimread\u001b[0;34m(fname, format)\u001b[0m\n\u001b[1;32m   1462\u001b[0m             raise ValueError('Only know how to handle PNG; with Pillow '\n\u001b[1;32m   1463\u001b[0m                              'installed, Matplotlib can handle more images')\n\u001b[0;32m-> 1464\u001b[0;31m         \u001b[0;32mwith\u001b[0m \u001b[0mImage\u001b[0m\u001b[0;34m.\u001b[0m\u001b[0mopen\u001b[0m\u001b[0;34m(\u001b[0m\u001b[0mfname\u001b[0m\u001b[0;34m)\u001b[0m \u001b[0;32mas\u001b[0m \u001b[0mimage\u001b[0m\u001b[0;34m:\u001b[0m\u001b[0;34m\u001b[0m\u001b[0;34m\u001b[0m\u001b[0m\n\u001b[0m\u001b[1;32m   1465\u001b[0m             \u001b[0;32mreturn\u001b[0m \u001b[0mpil_to_array\u001b[0m\u001b[0;34m(\u001b[0m\u001b[0mimage\u001b[0m\u001b[0;34m)\u001b[0m\u001b[0;34m\u001b[0m\u001b[0;34m\u001b[0m\u001b[0m\n\u001b[1;32m   1466\u001b[0m     \u001b[0;32mfrom\u001b[0m \u001b[0mmatplotlib\u001b[0m \u001b[0;32mimport\u001b[0m \u001b[0m_png\u001b[0m\u001b[0;34m\u001b[0m\u001b[0;34m\u001b[0m\u001b[0m\n",
            "\u001b[0;32m/usr/local/lib/python3.7/dist-packages/PIL/Image.py\u001b[0m in \u001b[0;36mopen\u001b[0;34m(fp, mode)\u001b[0m\n\u001b[1;32m   2850\u001b[0m         \u001b[0mexclusive_fp\u001b[0m \u001b[0;34m=\u001b[0m \u001b[0;32mTrue\u001b[0m\u001b[0;34m\u001b[0m\u001b[0;34m\u001b[0m\u001b[0m\n\u001b[1;32m   2851\u001b[0m \u001b[0;34m\u001b[0m\u001b[0m\n\u001b[0;32m-> 2852\u001b[0;31m     \u001b[0mprefix\u001b[0m \u001b[0;34m=\u001b[0m \u001b[0mfp\u001b[0m\u001b[0;34m.\u001b[0m\u001b[0mread\u001b[0m\u001b[0;34m(\u001b[0m\u001b[0;36m16\u001b[0m\u001b[0;34m)\u001b[0m\u001b[0;34m\u001b[0m\u001b[0;34m\u001b[0m\u001b[0m\n\u001b[0m\u001b[1;32m   2853\u001b[0m \u001b[0;34m\u001b[0m\u001b[0m\n\u001b[1;32m   2854\u001b[0m     \u001b[0mpreinit\u001b[0m\u001b[0;34m(\u001b[0m\u001b[0;34m)\u001b[0m\u001b[0;34m\u001b[0m\u001b[0;34m\u001b[0m\u001b[0m\n",
            "\u001b[0;31mKeyboardInterrupt\u001b[0m: "
          ]
        }
      ],
      "metadata": {
        "id": "CnY49q-JXA0I",
        "outputId": "9c3c8614-2d25-4299-9c2e-23e3a2abaa27",
        "colab": {
          "base_uri": "https://localhost:8080/",
          "height": 1000
        }
      }
    },
    {
      "cell_type": "code",
      "source": [
        "# Run this code, include the image in your PDF submission\n",
        "plt.figure()\n",
        "plt.imshow(train_data[4,0,0,:,:,:]) # left shoe of first pair submitted by 5th student\n",
        "plt.figure()\n",
        "plt.imshow(train_data[4,0,1,:,:,:]) # right shoe of first pair submitted by 5th student\n",
        "plt.figure()\n",
        "plt.imshow(train_data[4,1,1,:,:,:]) # right shoe of second pair submitted by 5th student"
      ],
      "execution_count": 6,
      "outputs": [
        {
          "output_type": "error",
          "ename": "NameError",
          "evalue": "ignored",
          "traceback": [
            "\u001b[0;31m---------------------------------------------------------------------------\u001b[0m",
            "\u001b[0;31mNameError\u001b[0m                                 Traceback (most recent call last)",
            "\u001b[0;32m<ipython-input-6-b62b68481c80>\u001b[0m in \u001b[0;36m<module>\u001b[0;34m()\u001b[0m\n\u001b[1;32m      1\u001b[0m \u001b[0;31m# Run this code, include the image in your PDF submission\u001b[0m\u001b[0;34m\u001b[0m\u001b[0;34m\u001b[0m\u001b[0;34m\u001b[0m\u001b[0m\n\u001b[1;32m      2\u001b[0m \u001b[0mplt\u001b[0m\u001b[0;34m.\u001b[0m\u001b[0mfigure\u001b[0m\u001b[0;34m(\u001b[0m\u001b[0;34m)\u001b[0m\u001b[0;34m\u001b[0m\u001b[0;34m\u001b[0m\u001b[0m\n\u001b[0;32m----> 3\u001b[0;31m \u001b[0mplt\u001b[0m\u001b[0;34m.\u001b[0m\u001b[0mimshow\u001b[0m\u001b[0;34m(\u001b[0m\u001b[0mtrain_data\u001b[0m\u001b[0;34m[\u001b[0m\u001b[0;36m4\u001b[0m\u001b[0;34m,\u001b[0m\u001b[0;36m0\u001b[0m\u001b[0;34m,\u001b[0m\u001b[0;36m0\u001b[0m\u001b[0;34m,\u001b[0m\u001b[0;34m:\u001b[0m\u001b[0;34m,\u001b[0m\u001b[0;34m:\u001b[0m\u001b[0;34m,\u001b[0m\u001b[0;34m:\u001b[0m\u001b[0;34m]\u001b[0m\u001b[0;34m)\u001b[0m \u001b[0;31m# left shoe of first pair submitted by 5th student\u001b[0m\u001b[0;34m\u001b[0m\u001b[0;34m\u001b[0m\u001b[0m\n\u001b[0m\u001b[1;32m      4\u001b[0m \u001b[0mplt\u001b[0m\u001b[0;34m.\u001b[0m\u001b[0mfigure\u001b[0m\u001b[0;34m(\u001b[0m\u001b[0;34m)\u001b[0m\u001b[0;34m\u001b[0m\u001b[0;34m\u001b[0m\u001b[0m\n\u001b[1;32m      5\u001b[0m \u001b[0mplt\u001b[0m\u001b[0;34m.\u001b[0m\u001b[0mimshow\u001b[0m\u001b[0;34m(\u001b[0m\u001b[0mtrain_data\u001b[0m\u001b[0;34m[\u001b[0m\u001b[0;36m4\u001b[0m\u001b[0;34m,\u001b[0m\u001b[0;36m0\u001b[0m\u001b[0;34m,\u001b[0m\u001b[0;36m1\u001b[0m\u001b[0;34m,\u001b[0m\u001b[0;34m:\u001b[0m\u001b[0;34m,\u001b[0m\u001b[0;34m:\u001b[0m\u001b[0;34m,\u001b[0m\u001b[0;34m:\u001b[0m\u001b[0;34m]\u001b[0m\u001b[0;34m)\u001b[0m \u001b[0;31m# right shoe of first pair submitted by 5th student\u001b[0m\u001b[0;34m\u001b[0m\u001b[0;34m\u001b[0m\u001b[0m\n",
            "\u001b[0;31mNameError\u001b[0m: name 'train_data' is not defined"
          ]
        },
        {
          "output_type": "display_data",
          "data": {
            "text/plain": [
              "<Figure size 432x288 with 0 Axes>"
            ]
          },
          "metadata": {}
        }
      ],
      "metadata": {
        "id": "r2LV8L4jXA0J",
        "outputId": "7491413b-189e-4e23-f115-ad258ebdbf0f",
        "colab": {
          "base_uri": "https://localhost:8080/",
          "height": 252
        }
      }
    },
    {
      "cell_type": "markdown",
      "source": [
        "### Part (b) -- 4%\n",
        "\n",
        "Since we want to train a model that determines whether two shoes come from the **same**\n",
        "pair or **different** pairs, we need to create some labelled training data.\n",
        "Our model will take in an image, either consisting of two shoes from the **same pair**\n",
        "or from **different pairs**. So, we'll need to generate some *positive examples* with\n",
        "images containing two shoes that *are* from the same pair, and some *negative examples* where \n",
        "images containing two shoes that *are not* from the same pair.\n",
        "We'll generate the *positive examples* in this part, and the *negative examples* in the next part.\n",
        "\n",
        "Write a function `generate_same_pair()` that takes one of the data sets that you produced\n",
        "in part (a), and generates a numpy array where each pair of shoes in the data set is\n",
        "concatenated together. In particular, we'll be concatenating together images of left\n",
        "and right shoes along the **height** axis. Your function `generate_same_pair` should\n",
        "return a  numpy array of shape `[*, 448, 224, 3]`.\n",
        "\n",
        "While at this stage we are working with numpy arrays, later on, we will need to convert this numpy array into a PyTorch tensor with shape\n",
        "`[*, 3, 448, 224]`. For now, we'll keep the RGB channel as the last dimension since\n",
        "that's what `plt.imshow` requires."
      ],
      "metadata": {
        "id": "Hb2iToeMXA0K"
      }
    },
    {
      "cell_type": "code",
      "source": [
        "# Your code goes here\n",
        "\n",
        "# Run this code, include the result with your PDF submission\n",
        "print(train_data.shape) # if this is [N, 3, 2, 224, 224, 3]\n",
        "print(generate_same_pair(train_data).shape) # should be [N*3, 448, 224, 3]\n",
        "plt.imshow(generate_same_pair(train_data)[0]) # should show 2 shoes from the same pair"
      ],
      "execution_count": null,
      "outputs": [],
      "metadata": {
        "id": "Bxjt-A9tXA0K"
      }
    },
    {
      "cell_type": "markdown",
      "source": [
        "### Part (c) -- 4%\n",
        "\n",
        "Write a function `generate_different_pair()` that takes one of the data sets that\n",
        "you produced in part (a), and generates a numpy array in the same shape as part (b).\n",
        "However, each image will contain 2 shoes from a **different** pair, but submitted\n",
        "by the **same student**. Do this by jumbling the 3 pairs of shoes submitted by \n",
        "each student.\n",
        "\n",
        "Theoretically, for each person (triplet of pairs), there are 6 different combinations\n",
        "of \"wrong pairs\" that we could produce. To keep our data set *balanced*, we will\n",
        "only produce **three** combinations of wrong pairs per unique person.\n",
        "In other words,`generate_same_pairs` and `generate_different_pairs` should\n",
        "return the same number of training examples."
      ],
      "metadata": {
        "id": "GMq7K5mWXA0L"
      }
    },
    {
      "cell_type": "code",
      "source": [
        "# Your code goes here\n",
        "\n",
        "# Run this code, include the result with your PDF submission\n",
        "print(train_data.shape) # if this is [N, 3, 2, 224, 224, 3]\n",
        "print(generate_different_pair(train_data).shape) # should be [N*3, 448, 224, 3]\n",
        "plt.imshow(generate_different_pair(train_data)[0]) # should show 2 shoes from different pairs"
      ],
      "execution_count": null,
      "outputs": [],
      "metadata": {
        "id": "j23S07FPXA0L"
      }
    },
    {
      "cell_type": "markdown",
      "source": [
        "### Part (d) -- 2%\n",
        "\n",
        "Why do we insist that the different pairs of shoes still come from the same\n",
        "person?  (Hint: what else do images from the same person have in common?)"
      ],
      "metadata": {
        "id": "PuzZ4j3lXA0M"
      }
    },
    {
      "cell_type": "markdown",
      "source": [
        "**Write your explanation here:**"
      ],
      "metadata": {
        "id": "opqOdSL0XA0M"
      }
    },
    {
      "cell_type": "markdown",
      "source": [
        "### Part (e) -- 2%\n",
        "\n",
        "Why is it important that our data set be *balanced*? In other words suppose we created\n",
        "a data set where 99% of the images are of shoes that are *not* from the same pair, and \n",
        "1% of the images are shoes that *are* from the same pair. Why could this be a problem?"
      ],
      "metadata": {
        "id": "9x1aygMlXA0N"
      }
    },
    {
      "cell_type": "markdown",
      "source": [
        "**Write your explanation here:**"
      ],
      "metadata": {
        "id": "aRE7uq97XA0N"
      }
    },
    {
      "cell_type": "markdown",
      "source": [
        "## Question 2. Convolutional Neural Networks (25%)\n",
        "\n",
        "Before starting this question, we recommend reviewing the lecture and its associated example notebook on CNNs.\n",
        "\n",
        "In this section, we will build two CNN models in PyTorch.\n",
        "\n",
        "### Part (a) -- 9%\n",
        "\n",
        "Implement a CNN model in PyTorch called `CNN` that will take images of size\n",
        "$3 \\times 448 \\times 224$, and classify whether the images contain shoes from\n",
        "the same pair or from different pairs.\n",
        "\n",
        "The model should contain the following layers:\n",
        "\n",
        "- A convolution layer that takes in 3 channels, and outputs $n$ channels.\n",
        "- A $2 \\times 2$ downsampling (either using a strided convolution in the previous step, or max pooling)\n",
        "- A second convolution layer that takes in $n$ channels, and outputs $2\\cdot n$ channels.\n",
        "- A $2 \\times 2$ downsampling (either using a strided convolution in the previous step, or max pooling)\n",
        "- A third convolution layer that takes in $2\\cdot n$ channels, and outputs $4\\cdot n$ channels.\n",
        "- A $2 \\times 2$ downsampling (either using a strided convolution in the previous step, or max pooling)\n",
        "- A fourth convolution layer that takes in $4\\cdot n$ channels, and outputs $8\\cdot n$ channels.\n",
        "- A $2 \\times 2$ downsampling (either using a strided convolution in the previous step, or max pooling)\n",
        "- A fully-connected layer with 100 hidden units\n",
        "- A fully-connected layer with 2 hidden units\n",
        "\n",
        "Make the variable $n$ a parameter of your CNN. You can use either $3 \\times 3$ or $5 \\times 5$\n",
        "convolutions kernels. Set your padding to be `(kernel_size - 1) / 2` so that your feature maps\n",
        "have an even height/width.\n",
        "\n",
        "Note that we are omitting in our description certain steps that practitioners will typically not mention,\n",
        "like ReLU activations and reshaping operations. Use the example presented in class to figure out where they are."
      ],
      "metadata": {
        "id": "jURml_P_XA0N"
      }
    },
    {
      "cell_type": "code",
      "source": [
        "class CNN(nn.Module):\n",
        "    def __init__(self, n=4):\n",
        "        super(CNN, self).__init__()\n",
        "        # TODO: complete this method\n",
        "\n",
        "    # TODO: complete this class"
      ],
      "execution_count": null,
      "outputs": [],
      "metadata": {
        "id": "9NE8MzNGXA0O"
      }
    },
    {
      "cell_type": "markdown",
      "source": [
        "### Part (b) -- 8%\n",
        "\n",
        "Implement a CNN model in PyTorch called `CNNChannel` that contains the same layers as\n",
        "in the Part (a), but with one crucial difference: instead of starting with an image\n",
        "of shape $3 \\times 448 \\times 224$, we will first manipulate the image so that the\n",
        "left and right shoes images are concatenated along the **channel** dimension.\n",
        "\n",
        "<img src=\"https://drive.google.com/uc?id=1B59VE43X-6Dw3ag-9Ndn6vPEzbnFem8K\" width=\"400px\" />\n",
        "\n",
        "\n",
        "Complete the manipulation in the `forward()` method (by slicing and using\n",
        "the function `torch.cat`). The input to the first convolutional layer\n",
        "should have 6 channels instead of 3 (input shape $6 \\times 224 \\times 224$).\n",
        "\n",
        "Use the same hyperparameter choices as you did in part (a), e.g. for the kernel size,\n",
        "choice of downsampling, and other choices."
      ],
      "metadata": {
        "id": "j487mBNgXA0O"
      }
    },
    {
      "cell_type": "code",
      "source": [
        "class CNNChannel(nn.Module):\n",
        "    def __init__(self, n=4):\n",
        "        super(CNNChannel, self).__init__()\n",
        "        # TODO: complete this method\n",
        "\n",
        "    # TODO: complete this class"
      ],
      "execution_count": null,
      "outputs": [],
      "metadata": {
        "id": "MhEI4kXlXA0O"
      }
    },
    {
      "cell_type": "markdown",
      "source": [
        "## Part (c) -- 4%\n",
        "\n",
        "The two models are quite similar, and should have almost the same number of parameters.\n",
        "However, one of these models will perform better, showing that architecture choices **do**\n",
        "matter in machine learning. Explain why one of these models performs better."
      ],
      "metadata": {
        "id": "KJu-GRKnXA0P"
      }
    },
    {
      "cell_type": "markdown",
      "source": [
        "**Write your explanation here:**"
      ],
      "metadata": {
        "id": "NM9BvqRgXA0P"
      }
    },
    {
      "cell_type": "markdown",
      "source": [
        "## Part (d) -- 4%\n",
        "\n",
        "The function `get_accuracy` is written for you. You may need to modify this\n",
        "function depending on how you set up your model and training.\n",
        "\n",
        "Unlike in the previous assignment, her we will separately compute the model accuracy on the\n",
        "positive and negative samples.  Explain why we may wish to track the false positives and false negatives separately."
      ],
      "metadata": {
        "id": "IeNyNuh1XA0P"
      }
    },
    {
      "cell_type": "markdown",
      "source": [
        "**Write your explanation here:**"
      ],
      "metadata": {
        "id": "CQRprStfXA0P"
      }
    },
    {
      "cell_type": "code",
      "source": [
        "def get_accuracy(model, data, batch_size=50):\n",
        "    \"\"\"Compute the model accuracy on the data set. This function returns two\n",
        "    separate values: the model accuracy on the positive samples,\n",
        "    and the model accuracy on the negative samples.\n",
        "\n",
        "    Example Usage:\n",
        "\n",
        "    >>> model = CNN() # create untrained model\n",
        "    >>> pos_acc, neg_acc= get_accuracy(model, valid_data)\n",
        "    >>> false_positive = 1 - pos_acc\n",
        "    >>> false_negative = 1 - neg_acc\n",
        "    \"\"\"\n",
        "\n",
        "    model.eval()\n",
        "    n = data.shape[0]\n",
        "\n",
        "    data_pos = generate_same_pair(data)      # should have shape [n * 3, 448, 224, 3]\n",
        "    data_neg = generate_different_pair(data) # should have shape [n * 3, 448, 224, 3]\n",
        "\n",
        "    pos_correct = 0\n",
        "    for i in range(0, len(data_pos), batch_size):\n",
        "        xs = torch.Tensor(data_pos[i:i+batch_size]).transpose(1, 3)\n",
        "        zs = model(xs)\n",
        "        pred = zs.max(1, keepdim=True)[1] # get the index of the max logit\n",
        "        pred = pred.detach().numpy()\n",
        "        pos_correct += (pred == 1).sum()\n",
        "    \n",
        "    neg_correct = 0\n",
        "    for i in range(0, len(data_neg), batch_size):\n",
        "        xs = torch.Tensor(data_neg[i:i+batch_size]).transpose(1, 3)\n",
        "        zs = model(xs)\n",
        "        pred = zs.max(1, keepdim=True)[1] # get the index of the max logit\n",
        "        pred = pred.detach().numpy()\n",
        "        neg_correct += (pred == 0).sum()\n",
        "\n",
        "    return pos_correct / (n * 3), neg_correct / (n * 3)"
      ],
      "execution_count": null,
      "outputs": [],
      "metadata": {
        "id": "wfWsat6dXA0P"
      }
    },
    {
      "cell_type": "markdown",
      "source": [
        "## Question 3. Training (40%)\n",
        "\n",
        "Now, we will write the functions required to train the model. \n",
        "\n",
        "Although our task is a binary classification problem, we will still use the architecture\n",
        "of a multi-class classification problem. That is, we'll use a one-hot vector to represent\n",
        "our target (like we did in the previous assignment). We'll also use `CrossEntropyLoss` instead of\n",
        "`BCEWithLogitsLoss` (this is a standard practice in machine learning because\n",
        "this architecture often performs better).\n",
        "\n",
        "### Part (a) -- 22%\n",
        "\n",
        "Write the function `train_model` that takes in (as parameters) the model, training data,\n",
        "validation data, and other hyperparameters like the batch size, weight decay, etc.\n",
        "This function should be somewhat similar to the training code that you wrote\n",
        "in Assignment 2, but with a major difference in the way we treat our training data.\n",
        "\n",
        "Since our positive (shoes of the same pair) and negative (shoes of different pairs) training sets are separate, it is actually easier for\n",
        "us to generate separate minibatches of positive and negative training data.\n",
        " In\n",
        "each iteration, we'll take `batch_size / 2` positive samples and `batch_size / 2`\n",
        "negative samples. We will also generate labels of 1's for the positive samples,\n",
        "and 0's for the negative samples.\n",
        "\n",
        "Here is what your training function should include:\n",
        "\n",
        "- main training loop; choice of loss function; choice of optimizer\n",
        "- obtaining the positive and negative samples\n",
        "- shuffling the positive and negative samples at the start of each epoch\n",
        "- in each iteration, take `batch_size / 2` positive samples and `batch_size / 2` negative samples\n",
        "  as our input for this batch\n",
        "- in each iteration, take `np.ones(batch_size / 2)` as the labels for the positive samples, and \n",
        "  `np.zeros(batch_size / 2)` as the labels for the negative samples\n",
        "- conversion from numpy arrays to PyTorch tensors, making sure that the input has dimensions $N \\times C \\times H \\times W$ (known as NCHW tensor), where $N$ is the number of images batch size, $C$ is the number of channels, $H$ is the height of the image, and $W$ is the width of the image. \n",
        "- computing the forward and backward passes \n",
        "- after every epoch, report the accuracies for the training set and validation set\n",
        "- track the training curve information and plot the training curve\n",
        "\n",
        "It is also recommended to checkpoint your model (save a copy) after every epoch, as we did in Assignment 2."
      ],
      "metadata": {
        "id": "llxxitxPXA0Q"
      }
    },
    {
      "cell_type": "code",
      "source": [
        "# Write your code here"
      ],
      "execution_count": null,
      "outputs": [],
      "metadata": {
        "id": "qkI7i3MRXA0Q"
      }
    },
    {
      "cell_type": "markdown",
      "source": [
        "### Part (b) -- 6%\n",
        "\n",
        "Sanity check your code from Q3(a) and from Q2(a) and Q2(b) by showing that your models\n",
        "can memorize a very small subset of the training set (e.g. 5 images).\n",
        "You should be able to achieve 90%+ accuracy (don't forget to calculate the accuracy)\n",
        "relatively quickly (within ~30 or so iterations).\n",
        "\n",
        "\n",
        "(Start with the second network, it is easier to converge)\n",
        "\n",
        "Try to find the general parameters combination that work for each network, it can help you a little bit later."
      ],
      "metadata": {
        "id": "W1PGYaroXA0R"
      }
    },
    {
      "cell_type": "code",
      "source": [
        "# Write your code here. Remember to include your results so that we can\n",
        "# see that your model attains a high training accuracy. "
      ],
      "execution_count": null,
      "outputs": [],
      "metadata": {
        "id": "a0_aB4_2XA0R"
      }
    },
    {
      "cell_type": "markdown",
      "source": [
        "### Part (c) -- 8%\n",
        "\n",
        "Train your models from Q2(a) and Q2(b). Change the values of a few \n",
        "hyperparameters, including the learning rate, batch size, choice of $n$, and \n",
        "the kernel size. You do not need to check all values for all hyperparameters. Instead, try to make big changes to see how each change affect your scores.\n",
        "(try to start with finding a resonable learning rate for each network, that start changing the other parameters, the first network might need bigger $n$ and kernel size)\n",
        "\n",
        "In this section, explain how you tuned your hyperparameters."
      ],
      "metadata": {
        "id": "suXyy4vgXA0S"
      }
    },
    {
      "cell_type": "markdown",
      "source": [
        "**Write your explanation here:**"
      ],
      "metadata": {
        "id": "LdK21AipXA0S"
      }
    },
    {
      "cell_type": "code",
      "source": [
        "# Include the training curves for the two models."
      ],
      "execution_count": null,
      "outputs": [],
      "metadata": {
        "id": "K9-EdEaEXA0S"
      }
    },
    {
      "cell_type": "markdown",
      "source": [
        "### Part (d) -- 4%\n",
        "\n",
        "Include your training curves for the **best** models from each of Q2(a) and Q2(b).\n",
        "These are the models that you will use in Question 4."
      ],
      "metadata": {
        "id": "KhgqSIYuXA0S"
      }
    },
    {
      "cell_type": "code",
      "source": [
        "# Include the training curves for the two models."
      ],
      "execution_count": null,
      "outputs": [],
      "metadata": {
        "id": "J3Bv5xdoXA0T"
      }
    },
    {
      "cell_type": "markdown",
      "source": [
        "## Question 4. Testing (15%)\n",
        "\n",
        "### Part (a) -- 7%\n",
        "\n",
        "Report the test accuracies of your **single best** model,\n",
        "separately for the two test sets.\n",
        "Do this by choosing the  model\n",
        "architecture that produces the best validation accuracy. For instance,\n",
        "if your model attained the\n",
        "best validation accuracy in epoch 12, then the weights at epoch 12 is what you should be using\n",
        "to report the test accuracy."
      ],
      "metadata": {
        "id": "8g36w42lXA0T"
      }
    },
    {
      "cell_type": "code",
      "source": [
        "# Write your code here. Make sure to include the test accuracy in your report"
      ],
      "execution_count": null,
      "outputs": [],
      "metadata": {
        "id": "jPYlhs-jXA0T"
      }
    },
    {
      "cell_type": "markdown",
      "source": [
        "### Part (b) -- 4%\n",
        "\n",
        "Display one set of men's shoes that your model correctly classified as being\n",
        "from the same pair.\n",
        "\n",
        "If your test accuracy was not 100% on the men's shoes test set,\n",
        "display one set of inputs that your model classified incorrectly.\n"
      ],
      "metadata": {
        "id": "CLv1TcIQXA0U"
      }
    },
    {
      "cell_type": "markdown",
      "source": [
        "\n",
        "### Part (c) -- 4%\n",
        "\n",
        "Display one set of women's shoes that your model correctly classified as being\n",
        "from the same pair.\n",
        "\n",
        "If your test accuracy was not 100% on the women's shoes test set,\n",
        "display one set of inputs that your model classified incorrectly."
      ],
      "metadata": {
        "id": "4B6VmkHwXA0U"
      }
    }
  ],
  "metadata": {
    "colab": {
      "name": "Assignment3_ipynb.ipynb",
      "provenance": []
    },
    "language_info": {
      "name": "python"
    },
    "kernelspec": {
      "name": "python3",
      "display_name": "Python 3"
    }
  },
  "nbformat": 4,
  "nbformat_minor": 0
}